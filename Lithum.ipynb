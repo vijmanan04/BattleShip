{
  "nbformat": 4,
  "nbformat_minor": 0,
  "metadata": {
    "colab": {
      "provenance": [],
      "authorship_tag": "ABX9TyOhqPyWzQmktEHdc07zwkLR",
      "include_colab_link": true
    },
    "kernelspec": {
      "name": "python3",
      "display_name": "Python 3"
    },
    "language_info": {
      "name": "python"
    }
  },
  "cells": [
    {
      "cell_type": "markdown",
      "metadata": {
        "id": "view-in-github",
        "colab_type": "text"
      },
      "source": [
        "<a href=\"https://colab.research.google.com/github/vijmanan04/BattleShip/blob/master/Lithum.ipynb\" target=\"_parent\"><img src=\"https://colab.research.google.com/assets/colab-badge.svg\" alt=\"Open In Colab\"/></a>"
      ]
    },
    {
      "cell_type": "markdown",
      "source": [
        "# **Introduction:**\n",
        "\n",
        "In *Eumenides* and *Symposium*, debate scenes serve to distinguish each work's differnt perception on the nature of truth. *Eumenides* treats truth as a subjective commodity, while *Symposium* treats it objectively. However, while the books denote these two notions, how do these books arrive at these conclusions?\n",
        "\n",
        "This innteractive game will illustrate the thinking *behind* how these two different notions arise by encouraging you to adopt each mindset. This activity consists of a game where a set of numbers is generated according to pre-defined rule/rules. Your job is to determine the \"truth\" (i.e the pre-defined rule(s)) by adopting either of these two notions of truth and seeing what the process of truth-determination looks and feels like. For example, if the set of numbers is 2, 4, 6 (in that order), you may think the rule for these numbers is that \n",
        "\n",
        "Go through this game by first playing the game associated with the subjective notion of truth and then move on to the objective notion of truth.\n"
      ],
      "metadata": {
        "id": "9XQrM-OhgzJW"
      }
    },
    {
      "cell_type": "markdown",
      "source": [
        "# The Subjective Notion of Truth\n",
        "\n",
        "We will first explore the subjective view of truth, as depicted in *Eumenides*. "
      ],
      "metadata": {
        "id": "RGe08204r7NO"
      }
    },
    {
      "cell_type": "markdown",
      "source": [
        "#Rules\n",
        "\n",
        "1. You will be presented with 1 set of numbers, containing three numbers\n",
        "2. After the set is presented, you will be prompted to write down what you think the rule is. In this case, think of each set as \"evidence\" being presented in support of an argument/opinion/truth (analagous to Orestes' trial). The argument/opinion/truth is what you believe the rule is.\n",
        "4. After your prediction, you will look over all your guesses to decide what you think the rule must be. If playing in single player, computer players will cast votes. The computer will be trying to figure out the same rule, but will get different numbers than yours. This mimics how different people, given the same truth, may focus on different aspects of that truth that guide their thinking, allowing for truth to become subjective. \n",
        "5. At the end, the rule with the highest number of votes will win. If there are any ties for first, a seconnd voting round for tie break will be held. "
      ],
      "metadata": {
        "id": "Z8AFpcm3sGgD"
      }
    },
    {
      "cell_type": "code",
      "source": [
        "#@title Click the arrow to start the subjective portion of this game\n",
        "nums = [[12, 24, 36]]\n",
        "response = \"\"\n",
        "\n",
        "for l in nums:\n",
        "  f = l[0]\n",
        "  s = l[1]\n",
        "  t = l[2]\n",
        "  print(f\"Numbers: {f}, {s}, {t}\")\n",
        "  response = input(\"Enter your prediction for the rule governing these numbers: \")\n",
        "  print()\n",
        "  \n",
        "print(\"Run next cell to proceed to debate.\")"
      ],
      "metadata": {
        "cellView": "form",
        "id": "reGCmUE-pL_-"
      },
      "execution_count": null,
      "outputs": []
    },
    {
      "cell_type": "code",
      "source": [
        "#@title View all proposed rules\n",
        "computer_numbers = [[3, 7, 10], [5, 6, 11], [3, 4, 5], [12, 24, 48], [9, 12, 15]]\n",
        "computer_reasons = [\"all numbers must be odd\", \"3rd number is a sum of the first two numbers\", \"numbers must be pythogorean triples\", \"all numbers must be multiples of 6\", \"all numbers must be multiples of 3\"]\n",
        "print(\"Here is your proposed rule and the other computer players proposed rules. The computer players are trying to figure out the same truth as you.\")\n",
        "print(f\"You think that the rule is as follows: {response}\")\n",
        "\n",
        "for i, reason in enumerate(computer_reasons):\n",
        "  print(f\"Computer player {i+1} thinks the rule is that {reason}\")\n",
        "print()\n",
        "\n",
        "#, based on the set it was given: {computer_numbers[i]}"
      ],
      "metadata": {
        "cellView": "form",
        "id": "Vs9d3hXUzc1y"
      },
      "execution_count": null,
      "outputs": []
    },
    {
      "cell_type": "code",
      "source": [
        "#@title \"Orestes Trial\":  Click to start debate\n",
        "#print(\"All the reasons that came out are different, but are not necessarily wrong due to the perspective of each player (i.e the set of numbers the player was given)\")\n",
        "print(\"It is time to \\\"vote\\\". You will go through each computers' rule, and say if you think that that rule is possible based on the evidence you have so far.\")\n",
        "print()\n",
        "votes = []\n",
        "for i, r in enumerate(computer_reasons):\n",
        "  vote = input(f\"Could computer player {i}'s reason that {r} possibly the actual truth/rule? (y/n): \")\n",
        "  while vote != 'n' and vote != 'y':\n",
        "    vote = input(\"Please type 'y' or 'n': \")\n",
        "  if vote == 'y':\n",
        "    votes.append(1)\n",
        "  else:\n",
        "    votes.append(0)\n",
        "\n",
        "print()\n",
        "print(\"Now the computer players will vote on your rule and other computer's rules.\")\n",
        "\n",
        "\"\"\"\n",
        "new_nums = input(\"Enter your three numbers here, seperated by a space: \")\n",
        "if new_nums.count(' ') != 2:\n",
        "  new_nums = input(\"Enter only 3 numbers, seperated by a space: \")\n",
        "\n",
        "new_nums = [int(i) for i in new_nums.split()]\n",
        "\"\"\"\n",
        "\n",
        "def computer1_check(nums):\n",
        "  if nums[0] % 2 == 1 and nums[1] % 2 == 1 and nums[2] % 2 == 1:\n",
        "    return 1\n",
        "  return 0\n",
        "\n",
        "def computer2_check(nums):\n",
        "  if nums[2] == nums[0] + nums[1]:\n",
        "    return 1\n",
        "  return 0\n",
        "\n",
        "def computer3_check(nums):\n",
        "  nums.sort()\n",
        "  if ((nums[0] ** 2) + (nums[1] ** 2) == (nums[2] ** 2)):\n",
        "    return 1\n",
        "  return 0\n",
        "\n",
        "def computer4_check(nums):\n",
        "  if nums[0] % 6 == 0 and nums[1] % 6 == 0 and nums[2] % 6 == 0:\n",
        "    return 1\n",
        "  return 0\n",
        "\n",
        "def computer5_check(nums):\n",
        "  if nums[0] % 3 == 0 and nums[1] % 3 == 0 and nums[2] % 3 == 0:\n",
        "    return 1\n",
        "  return 0\n",
        "\n",
        "\n",
        "compvotes = [0,0,0,0,0]\n",
        "for i in range(5):\n",
        "  for j in range(5):\n",
        "    curr_list = computer_numbers[j]\n",
        "    if i == 0 and j != 0:\n",
        "      compvotes[j] += computer1_check(curr_list)\n",
        "    if i == 1 and j != 1:\n",
        "      compvotes[j] += computer2_check(curr_list)\n",
        "    if i == 2 and j != 2:\n",
        "      compvotes[j] += computer3_check(curr_list)\n",
        "    if i == 3 and j != 3:\n",
        "      compvotes[j] += computer4_check(curr_list)\n",
        "    if i == 4 and j != 4:\n",
        "      compvotes[j] += computer5_check(curr_list)\n",
        "    \n",
        "compvotes = [sum(x) for x in zip(compvotes, votes)]\n",
        "\n",
        "votes_from_comps = 0   \n",
        "votes_from_comps += computer1_check(nums[0])\n",
        "votes_from_comps += computer2_check(nums[0])\n",
        "votes_from_comps += computer3_check(nums[0])\n",
        "votes_from_comps += computer4_check(nums[0])\n",
        "votes_from_comps += computer5_check(nums[0])\n",
        "\n",
        "print()\n",
        "print(\"All votes have been tallied. Run the next cell. \")\n"
      ],
      "metadata": {
        "cellView": "form",
        "id": "J3wHz6k3cigo"
      },
      "execution_count": null,
      "outputs": []
    },
    {
      "cell_type": "code",
      "source": [
        "#@title Run to view voting results\n",
        "for i, j in enumerate(computer_reasons):\n",
        "  print(f\"The reason {j} got {compvotes[i]} vote(s)\")\n",
        "\n",
        "print(f\"Your reason, {response},  got {votes_from_comps} vote(s)\")\n",
        "print()\n",
        "\n",
        "if max(compvotes) > votes_from_comps:\n",
        "  max_index = compvotes.index(max(compvotes))\n",
        "  if compvotes.count(max(compvotes)) == 1:\n",
        "    print(f\"The reason {computer_reasons[max_index]} has been collectively decided as the true rule.\")\n",
        "  else:\n",
        "    indices = [i for i, x in enumerate(compvotes) if x == max(compvotes)]\n",
        "    print(\"Multiple reasons were selected due to a tie: \")\n",
        "    for i in indices:\n",
        "      print(f\"Reason {i+1}. {computer_reasons[i]} has been collectively decided. \")\n",
        "\n",
        "else:\n",
        "  print(f\"Your reason, \\\"{response}\\\", has been collectively decided as the truth.\")\n",
        "\n",
        "\n",
        "#peint(\"Choosing top votes\")"
      ],
      "metadata": {
        "cellView": "form",
        "id": "2dL_WF1YjnqA"
      },
      "execution_count": null,
      "outputs": []
    },
    {
      "cell_type": "markdown",
      "source": [
        "#The Objective Notion of Truth\n",
        "We will now explore the objective view of truth, as depictied in *Symposium*. The rule for the numbers will remain the same. "
      ],
      "metadata": {
        "id": "To4xAjOm2psA"
      }
    },
    {
      "cell_type": "markdown",
      "source": [
        "#Rules\n",
        "\n",
        "1. You will guess sets of 3 numbers to try to figure out the underlying rule (the rule is the same as the one in the previous game)\n",
        "2. After each set is presented, you will be told if your numbers match the rule or don't match the rule. Proceed to next step when you feel confident you have the rule. In this case, think of each feedback as a way to uncover the underlying truth in a methodological, logical, Socratic way. Type \"n\" when you are ready to go to the next step. \n",
        "3. The computer will prompt you with \"question\" (i.e sets of numbers) where you must apply what you think the rule. For each set, the computer will check your answers. If any check fails, you must go back to step 2. After a while (10+ questions), if you continue to get the questions right, you may proceed to the next step. Recieving feedback is analgous to how the character's in *Symposium* build off or tweak each other previous understanding of love.\n",
        "4. Guess your final answer. After, the rule will be revealed.  "
      ],
      "metadata": {
        "id": "F68ZOmnV1k-I"
      }
    },
    {
      "cell_type": "code",
      "source": [
        "#@title Click arrow to being process of logical testing\n",
        "print(\"Enter your three numbers seperated by spaces. You can take as many attempts as needed. \")\n",
        "while True:\n",
        "  numbers = input(\"Enter your numbers (type 'n' if you're ready to test your rule): \")\n",
        "  while numbers.count(' ') != 2 and numbers != 'n':\n",
        "    numbers = input(\"You must enter exactly three numbers (type 'n' if you're ready to test your rule): \")\n",
        "  if numbers == 'n':\n",
        "    break\n",
        "  nums = numbers.split()\n",
        "  if nums[0] < nums[1] and nums[1] < nums[2]:\n",
        "    print(\"This set of numbers meets the rule.\")\n",
        "  else:\n",
        "    print(\"This set of numbers does not meets the rule.\")\n",
        "\n",
        "  # add feature of socrates saying something like, \"wait, are you sure. Try this case. Just because you got the case to meet doesn't meet your rule is correct for all numbers. Try negatie numbers.\""
      ],
      "metadata": {
        "cellView": "form",
        "id": "E-LKvd3i2znC"
      },
      "execution_count": null,
      "outputs": []
    },
    {
      "cell_type": "code",
      "source": [
        "#@title Socratic Questioning/Debate: Scrutinizing your rule. Click play to start. \n",
        "print(\"Before revealing the true rule, the computer will question your rule.\" )\n",
        "import random\n",
        "\n",
        "for i in range(10):\n",
        "  c = random.sample([1, 0, -1], 1)\n",
        "  if c[0] == 0:\n",
        "    f, s, t = random.sample(range(-10, 10), 3)\n",
        "  if c[0] == 1:\n",
        "    f, s, t = random.sample(range(1, 10), 3)\n",
        "  if c[0] == -1:\n",
        "    f, s, t = random.sample(range(-10, 0), 3)\n",
        "  \n",
        "  k = random.sample([1, 2, 3,0,0,0,-2, -3], 1)\n",
        "  if k[0] < 0:\n",
        "    f*=2\n",
        "    s*=2\n",
        "    t*=2\n",
        "  if k[0] > 0:\n",
        "    f*=3\n",
        "    s*=3\n",
        "    t*=3\n",
        "  if k[0] == 0:\n",
        "    a = [f, s, t]\n",
        "    a.sort()\n",
        "    f = a[0]\n",
        "    s = a[1]\n",
        "    t = a[2]\n",
        "  ans = input(f\"Question #{i+1}. Do these numbers fit the rule?: {f}, {s}, {t}. Type y/n: \")\n",
        "  while ans != 'n' and ans != 'y':\n",
        "    ans = input(\"Please type 'y' or 'n': \")\n",
        "\n",
        "  if f < s < t and ans == 'y':\n",
        "    print(\"You are correct\")\n",
        "  elif (f > s or f > t or s > t) and ans == 'n':\n",
        "    print(\"You are correct\")\n",
        "  else:\n",
        "    print(\"You are wrong. Go test your rule again above.\")\n",
        "    break\n",
        "\n",
        "if i == 9:\n",
        "  print(\"You may proceeed to next step or check your rule again.\")"
      ],
      "metadata": {
        "cellView": "form",
        "id": "LwNExEwpFqrj"
      },
      "execution_count": null,
      "outputs": []
    },
    {
      "cell_type": "code",
      "source": [
        "#@title Guess your rule now. Do not open this cell until after your have guessed the rule\n",
        "your_rule = input(\"Type your rule here: \")\n"
      ],
      "metadata": {
        "cellView": "form",
        "id": "eI6orrN-JodD"
      },
      "execution_count": null,
      "outputs": []
    },
    {
      "cell_type": "markdown",
      "source": [
        "Both games have been completed. Click the next cell to see the rule. "
      ],
      "metadata": {
        "id": "fPz9fbhXnnI0"
      }
    },
    {
      "cell_type": "code",
      "source": [
        "#@title Play to see rule\n",
        "print(\"True rule: All numbers must be in increasing order.\")\n"
      ],
      "metadata": {
        "cellView": "form",
        "id": "cUowhKF5nvjd"
      },
      "execution_count": null,
      "outputs": []
    },
    {
      "cell_type": "markdown",
      "source": [
        "#Conclusion/Interpretation/What Next?\n",
        "\n",
        "In both games, the same rule was given. However, you experienced how treating the notion of truth differently, as either a subjective or objective commodity, changed your experience and process of arriving at the truth. \n",
        "\n",
        "In the subjective portion, you were only given a limited set of data. This was to reflect how, in the reality, many people do not have infinite access of all forms of information in the world. For example, in a real court case, the jury/judge are not actively present at the crime, so those people would only get bits and pieces of the whole situation through witness who testify about the events that occurred. In fact, even witnesses may not have a complete understanding, which is why multiple witnesses are often necessary in a trial with high stakes. Given that this is the reality of our world, people can only make decisions/\"judgements of truth\" based on limited data. Furthermore, in this game, each computer player also came up with a rule that matched the numbers they were presented (if you are interested in seeing the other computer's numbers, click \"Show code\" under the first cell titled \"Click arrow to start\"). Therefore, this game helps illustrate how *context* is important to truth-determination when information is limited. In addition, notice how through your own understanding of the truth (i.e. the numbers you were given), you were still able to comment on other computer player's understanding, and arrive to a conclusion by popular vote, despite only having a limited information individually. By choice, the game was designed for you to not see other players numbers to reflect, how in the *Eumenidies*, each party is unable to adopt or understand the other's perspectives (Apollo + Orestes vs. Furies).  Finally, the truth was collectively decided upon by majority vote. Despite its *imperfections*, with some players voting for or against the truth, this rule now became the truth for the group. This is to reflect how the *Eumenidies* portrays truths as collectively determined. It is simillar to the notion behind the question, if a tree falls in a forest, but no one sees/hears it fall, does it really fall? Societal determined truths may be far off from the reality of the situation, but they **are** the truth for the people who collectively agree to it. Even in this game, it is possible that the truth that was determined as a collective was actually quite far off from the real truth. However, if the game never presented you with the actual truth, there would have been no way of knowing if your answer was truly very wrong. \n",
        "\n",
        "\n",
        "In the objective portion of the game, you were given an unlimited number of attempts to refine your rule. It is **only** because of this infinite access to information that you could even begin to introduce a process to your guesses. This is to reflect the *Symposium's* emphasis on using the debate as a space where questions are encouraged, since they provide a way to logically discern the truth. The goal of iterative process of asking and receiving feedback was to encourage the player to adopt a Socratic method of approaching a truth since they have essentially unlimited access to information. In contrast to the previous part, since the player can see a lot of different possibilities and, crucially, recieve feedback on it, the player can adopt a *strategy* (i.e a logical way of testing out ideas) that allows for a refinement in ideas (this was also the reason why the objective game should be played after the subjective game). Then, the process of testing the idea, analogous to others scrutinizing your rules (i.e Socrates questioning Agathon or Diotima questioing Socrates, points out flaws in the players way of thinking, allowing for another chance to go back and refine their ideas through morre logical testing. \n",
        "\n",
        "The first goal of this project was to explain why different notions of truth arise in the first place in the books. One reason behind why the books treat truth differently revolves around the concept of practicalty. For example, the subjective portion of the game should have taken the player a much shorter time than objective portion. Thus, this shows that accepting that truth must be subjective, and creating a debate prcoess to reflect this, is more practical in a real-world, low-information setting. In Orestes' trial, the jury does not have limitless knowledge or time, so they must find a way to efficently, yet accurately (since the stakes are high) determine truth. Thus, this portion of the game illustrates that the *Eumenidies* portrays truth as subjective because it is practical to do so, given that its world is riddled with uncertainity and differing perspectives on Orestes' actions and explains why the text treats truth as subjective. On the other hand, the characters in *Symposium* are conceptualized within a frame narrative that is once removed from the actual world and seem to have plenty to time to discuss matters. This is why they are able to undergo the same process of systematic testing and collaboration. In the game, the player's guess was likely much closer to the actual truth than in the subjective portion of the game, but was harder/slower to reach (i.e had a practical cost associated with it). \n",
        "\n",
        "\n",
        "The second goal of this project was to, more philosophically, understand truth and debate in a more general sense. The two texts deal with truth-determination and debate where humans are the ones testing and reasoning ideas. However, in this case, a pre-programmed algorithm was present in both the subjective and objective games. Thus, this project shows the truth-determination doesn't solely have to involve two humans, it can invovle a human and a machine. Especially considering how AI is becoming more advanced and its capabilities expanding to include understanding spoken and writeen language, a future where machines and humans collectively work together to determine truth may be possible. This future would mean that we don't have to sacrifice practicality for accuracy or vice versa, as was the case with the subjective and objective approaches, because of a computer's ability to efficently parse large amounts of data. AI, which could think subjectively like a human, but also have the ability efficiently process lots of data would essentially, lessening the impractical nature of the treating truth as an entity. In essence, this project should encourage the players to realize that they were able to determine a truth based on interactions with a machine, giving insight into the fact that truth-determination is not just an ability that is present in all humans (for example, as the *Eumenidies* portrays it), but also for machines."
      ],
      "metadata": {
        "id": "CsII6bJWQsBs"
      }
    }
  ]
}